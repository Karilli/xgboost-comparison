{
 "cells": [
  {
   "cell_type": "markdown",
   "metadata": {},
   "source": [
    "# Basic utilities"
   ]
  },
  {
   "cell_type": "code",
   "execution_count": 5,
   "metadata": {},
   "outputs": [],
   "source": [
    "import random\n",
    "\n",
    "\n",
    "random.seed(0)\n",
    "SEED = random.randint(0, 10**6)"
   ]
  },
  {
   "cell_type": "code",
   "execution_count": 6,
   "metadata": {},
   "outputs": [],
   "source": [
    "from sklearn.metrics import mean_squared_error\n",
    "import numpy as np\n",
    "\n",
    "\n",
    "def rmse(y_true, y_pred):\n",
    "    return np.sqrt(mean_squared_error(y_true, y_pred))\n",
    "\n",
    "def score(y_test, y_pred):\n",
    "    print(f\"RMSE: {rmse(y_test, y_pred):.03f}\")\n"
   ]
  },
  {
   "cell_type": "markdown",
   "metadata": {},
   "source": [
    "# Loading house prices from openml (ID 42092)"
   ]
  },
  {
   "cell_type": "code",
   "execution_count": 7,
   "metadata": {},
   "outputs": [],
   "source": [
    "import numpy as np\n",
    "\n",
    "from sklearn.datasets import fetch_openml\n",
    "from sklearn.model_selection import train_test_split\n",
    "\n",
    "\n",
    "df = fetch_openml(data_id=42092, as_frame=True)[\"frame\"]\n",
    "df = df.assign(\n",
    "    year = lambda x: x.date.str[0:4].astype(int),\n",
    "    zipcode = lambda x: x.zipcode.astype(int)\n",
    ").assign(\n",
    "    building_age = lambda x: x.year - x.yr_built,\n",
    ")\n",
    "\n",
    "xvars = [\n",
    "    \"grade\", \"year\", \"building_age\", \"sqft_living\", \n",
    "    \"sqft_lot\", \"bedrooms\", \"bathrooms\", \"floors\", \n",
    "    \"zipcode\", \"lat\", \"long\", \"condition\", \"waterfront\"\n",
    "]\n",
    "\n",
    "X, y = df[xvars], np.log(df[\"price\"])\n",
    "X_train, X_test, y_train, y_test = train_test_split(X, y, train_size=0.66, random_state=SEED)"
   ]
  },
  {
   "cell_type": "markdown",
   "metadata": {},
   "source": [
    "# sklearn.RandomForest"
   ]
  },
  {
   "cell_type": "code",
   "execution_count": 8,
   "metadata": {},
   "outputs": [
    {
     "name": "stdout",
     "output_type": "stream",
     "text": [
      "RMSE: 0.178\n"
     ]
    }
   ],
   "source": [
    "from sklearn.ensemble import RandomForestRegressor\n",
    "\n",
    "\n",
    "rf = RandomForestRegressor(\n",
    "    n_estimators=500, \n",
    "    max_features=\"sqrt\", \n",
    "    max_depth=20,\n",
    "    n_jobs=-1, \n",
    "    random_state=SEED\n",
    ")\n",
    "\n",
    "rf.fit(X_train, y_train)\n",
    "y_pred = rf.predict(X_test)\n",
    "score(y_test, y_pred)"
   ]
  },
  {
   "cell_type": "markdown",
   "metadata": {},
   "source": [
    "# XGBoost with random forest mode (equivalent to sklearn.RandomForest)"
   ]
  },
  {
   "cell_type": "code",
   "execution_count": 9,
   "metadata": {},
   "outputs": [
    {
     "name": "stdout",
     "output_type": "stream",
     "text": [
      "RMSE: 0.180\n"
     ]
    }
   ],
   "source": [
    "import xgboost as xgb\n",
    "\n",
    "dtrain = xgb.DMatrix(X_train, label=y_train)\n",
    "\n",
    "m = len(xvars)\n",
    "\n",
    "params = {\n",
    "    'objective': \"reg:squarederror\",\n",
    "    'learning_rate': 1,\n",
    "    'num_parallel_tree': 500,\n",
    "    'subsample': 0.63,\n",
    "    'colsample_bynode': int(np.sqrt(m)) / m,\n",
    "    'reg_lambda': 0,\n",
    "    'max_depth': 20,\n",
    "    'min_child_weight': 2,\n",
    "    'seed': SEED,\n",
    "    'seed_per_iteration': True\n",
    "}\n",
    "model = xgb.train(params, dtrain, num_boost_round = 1)\n",
    "y_pred = model.predict(xgb.DMatrix(X_test))\n",
    "score(y_test, y_pred)"
   ]
  },
  {
   "cell_type": "markdown",
   "metadata": {},
   "source": [
    "# XGBRegressor with better hyper parameters"
   ]
  },
  {
   "cell_type": "code",
   "execution_count": 10,
   "metadata": {},
   "outputs": [],
   "source": [
    "from xgboost import XGBRegressor\n",
    "from math import sqrt, floor\n",
    "\n",
    "\n",
    "m = len(xvars)\n",
    "\n",
    "model = XGBRegressor(\n",
    "    learning_rate = 0.2, # 0.0 - 1.0, log, not sure if each forest can have its own, it might lead to overfitting anyway\n",
    "\n",
    "    max_depth = 20, # 2 - 50, 6 - 20 is another more conservative option\n",
    "    subsample = 0.63, # 0.0 - 1.0\n",
    "    # u can set only one of the colsample_by*\n",
    "    # colsample_bytree: Optional[float] = None,\n",
    "    # colsample_bylevel: Optional[float] = None,\n",
    "    colsample_bynode = floor(sqrt(m))/m, # m..num_of_features, 0 - m, log?\n",
    "    n_estimators = 100, # 100 - 500 = number of random forests in booster\n",
    "    num_parallel_tree = 100, # 100 - 500 = number of trees in each random forest\n",
    "    reg_lambda = 0, # -10. - 10.0, log = prunning of trees, higher value -> more prunning, not sure if negative values do anything\n",
    "    min_child_weight = 2, # 0.0 - 10.0, log, higher value -> less options to choose from when selecting new nodes in trees\n",
    "\n",
    "    objective = \"reg:squarederror\", # list at https://xgboost.readthedocs.io/en/stable/parameter.html, search for objective\n",
    "    seed=SEED, \n",
    "    seed_per_iteration=True\n",
    "\n",
    ")\n",
    "model.fit(X_train, y_train)\n",
    "y_pred = model.predict(X_test)\n",
    "score(y_test, y_pred)"
   ]
  }
 ],
 "metadata": {
  "kernelspec": {
   "display_name": "venv",
   "language": "python",
   "name": "python3"
  },
  "language_info": {
   "codemirror_mode": {
    "name": "ipython",
    "version": 3
   },
   "file_extension": ".py",
   "mimetype": "text/x-python",
   "name": "python",
   "nbconvert_exporter": "python",
   "pygments_lexer": "ipython3",
   "version": "3.10.12"
  }
 },
 "nbformat": 4,
 "nbformat_minor": 2
}
