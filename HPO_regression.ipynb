{
 "cells": [
  {
   "cell_type": "markdown",
   "metadata": {},
   "source": [
    "# Basic utilities"
   ]
  },
  {
   "cell_type": "code",
   "execution_count": 17,
   "metadata": {},
   "outputs": [],
   "source": [
    "import random\n",
    "\n",
    "\n",
    "random.seed(0)\n",
    "SEED = random.randint(0, 10**6)"
   ]
  },
  {
   "cell_type": "code",
   "execution_count": 18,
   "metadata": {},
   "outputs": [],
   "source": [
    "from sklearn.metrics import mean_squared_error\n",
    "import numpy as np\n",
    "\n",
    "\n",
    "def rmse(y_true, y_pred):\n",
    "    return np.sqrt(mean_squared_error(y_true, y_pred))"
   ]
  },
  {
   "cell_type": "markdown",
   "metadata": {},
   "source": [
    "# Loading house prices from openml (ID 42092)"
   ]
  },
  {
   "cell_type": "code",
   "execution_count": 19,
   "metadata": {},
   "outputs": [],
   "source": [
    "import numpy as np\n",
    "\n",
    "from sklearn.datasets import fetch_openml\n",
    "from sklearn.model_selection import train_test_split\n",
    "\n",
    "\n",
    "df = fetch_openml(data_id=42092, as_frame=True)[\"frame\"]\n",
    "df = df.assign(\n",
    "    year = lambda x: x.date.str[0:4].astype(int),\n",
    "    zipcode = lambda x: x.zipcode.astype(int),\n",
    "    building_age = lambda x: x.year - x.yr_built,\n",
    ")\n",
    "\n",
    "xvars = [\n",
    "    \"grade\", \"year\", \"building_age\", \"sqft_living\", \n",
    "    \"sqft_lot\", \"bedrooms\", \"bathrooms\", \"floors\", \n",
    "    \"zipcode\", \"lat\", \"long\", \"condition\", \"waterfront\"\n",
    "]\n",
    "\n",
    "X, y = df[xvars], np.log(df[\"price\"])\n",
    "X_train, X_test, y_train, y_test = train_test_split(X, y, train_size=0.66, random_state=SEED)"
   ]
  },
  {
   "cell_type": "markdown",
   "metadata": {},
   "source": [
    "# Hyper optimized XGBRegressor"
   ]
  },
  {
   "cell_type": "code",
   "execution_count": 20,
   "metadata": {},
   "outputs": [],
   "source": [
    "from ConfigSpace import ConfigurationSpace, Integer, Float, Categorical\n",
    "from math import sqrt, floor\n",
    "\n",
    "\n",
    "m = len(xvars)\n",
    "\n",
    "cs = ConfigurationSpace({\n",
    "    \"learning_rate\":        Float(name=\"learning_rate\", bounds=(0.01, 1.0), log=True, default=0.2),\n",
    "    \"subsample\":            Float(name=\"subsample\", bounds=(0.01, 1.0), default=0.63),\n",
    "    \"colsample_by\":         Categorical(name=\"colsample_by\", items=[\"node\", \"level\", \"tree\"], default=\"node\"),\n",
    "    \"colsample_amount\":     Float(name=\"colsample_amount\", bounds=(0.01, 1.0), default=floor(sqrt(m))/m, log=True),\n",
    "    \"n_estimators\":         Integer(name=\"n_estimators\", bounds=(10, 25), default=10),\n",
    "    \"num_parallel_tree\":    Integer(name=\"num_parallel_tree\", bounds=(10, 25), default=10),\n",
    "    \"reg_lambda\":           Float(name=\"reg_lambda\", bounds=(0.0, 10.0), default=0),\n",
    "    \"min_child_weight\":     Float(name=\"min_child_weight\", bounds=(0.0, 10.0), default=2.0),\n",
    "})"
   ]
  },
  {
   "cell_type": "code",
   "execution_count": 21,
   "metadata": {},
   "outputs": [],
   "source": [
    "from xgboost import XGBRegressor\n",
    "\n",
    "\n",
    "BEST_MODEL = None\n",
    "BEST_SCORE = 1.0\n",
    "def train(config, seed=0):\n",
    "    params = dict(config)\n",
    "    col_mode = params[\"colsample_by\"]\n",
    "    params[f\"colsample_by{col_mode}\"] = params[\"colsample_amount\"]\n",
    "    del params[\"colsample_by\"]\n",
    "    del params[\"colsample_amount\"]\n",
    "\n",
    "    model = XGBRegressor(\n",
    "        **params,\n",
    "        objective = \"reg:squarederror\",\n",
    "        seed=seed, \n",
    "        seed_per_iteration=True\n",
    "    )\n",
    "    model.fit(X_train, y_train)\n",
    "\n",
    "    y_pred = model.predict(X_test)\n",
    "    res = rmse(y_test, y_pred)\n",
    "    global BEST_SCORE, BEST_MODEL\n",
    "    if res < BEST_SCORE:\n",
    "        BEST_SCORE, BEST_MODEL = res, model\n",
    "    return res"
   ]
  },
  {
   "cell_type": "code",
   "execution_count": 22,
   "metadata": {},
   "outputs": [
    {
     "name": "stdout",
     "output_type": "stream",
     "text": [
      "[INFO][abstract_initial_design.py:95] Reducing the number of initial configurations from 80 to 25 (max_ratio == 0.25).\n",
      "[INFO][abstract_initial_design.py:147] Using 25 initial design configurations and 0 additional configurations.\n",
      "\n"
     ]
    },
    {
     "name": "stdout",
     "output_type": "stream",
     "text": [
      "[INFO][abstract_intensifier.py:515] Added config f3e8b7 as new incumbent because there are no incumbents yet.\n",
      "[INFO][abstract_intensifier.py:590] Added config 81127e and rejected config f3e8b7 as incumbent because it is not better than the incumbents on 2 instances:\n",
      "[INFO][abstract_intensifier.py:590] Added config ee6dae and rejected config 81127e as incumbent because it is not better than the incumbents on 3 instances:\n",
      "[INFO][abstract_intensifier.py:590] Added config 768116 and rejected config ee6dae as incumbent because it is not better than the incumbents on 3 instances:\n",
      "[INFO][smbo.py:319] Finished 50 trials.\n",
      "[INFO][abstract_intensifier.py:590] Added config 284f12 and rejected config 768116 as incumbent because it is not better than the incumbents on 3 instances:\n",
      "[INFO][abstract_intensifier.py:590] Added config 5893c4 and rejected config 284f12 as incumbent because it is not better than the incumbents on 3 instances:\n",
      "[INFO][smbo.py:319] Finished 100 trials.\n",
      "[INFO][smbo.py:327] Configuration budget is exhausted:\n",
      "[INFO][smbo.py:328] --- Remaining wallclock time: inf\n",
      "[INFO][smbo.py:329] --- Remaining cpu time: inf\n",
      "[INFO][smbo.py:330] --- Remaining trials: 0\n",
      "Configuration(values={\n",
      "  'colsample_amount': 0.5380928893514532,\n",
      "  'colsample_by': 'tree',\n",
      "  'learning_rate': 0.9314177408780928,\n",
      "  'min_child_weight': 0.9721041982038057,\n",
      "  'n_estimators': 13,\n",
      "  'num_parallel_tree': 11,\n",
      "  'reg_lambda': 9.99528054343182,\n",
      "  'subsample': 0.8556766874926994,\n",
      "})\n",
      "Best score: 0.16739102720178384\n"
     ]
    }
   ],
   "source": [
    "from smac import HyperparameterOptimizationFacade, Scenario\n",
    "\n",
    "\n",
    "scenario = Scenario(\n",
    "    cs, \n",
    "    deterministic=False, \n",
    "    n_trials=100,\n",
    "    # walltime_limit=1000, \n",
    "    # trial_walltime_limit=10000\n",
    ")\n",
    "smac = HyperparameterOptimizationFacade(scenario, train)\n",
    "print()\n",
    "print(smac.optimize())\n",
    "print(f\"Best score: {BEST_SCORE}\")"
   ]
  }
 ],
 "metadata": {
  "kernelspec": {
   "display_name": "venv",
   "language": "python",
   "name": "python3"
  },
  "language_info": {
   "codemirror_mode": {
    "name": "ipython",
    "version": 3
   },
   "file_extension": ".py",
   "mimetype": "text/x-python",
   "name": "python",
   "nbconvert_exporter": "python",
   "pygments_lexer": "ipython3",
   "version": "3.10.12"
  }
 },
 "nbformat": 4,
 "nbformat_minor": 2
}
